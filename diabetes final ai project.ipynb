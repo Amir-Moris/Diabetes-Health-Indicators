{
 "cells": [
  {
   "cell_type": "code",
   "execution_count": 18,
   "metadata": {},
   "outputs": [],
   "source": [
    "import numpy as np \n",
    "import pandas as pd \n",
    "import matplotlib.pyplot as plt \n",
    "import seaborn as sns \n",
    "import joblib\n",
    "\n",
    "plt.style.use('seaborn-darkgrid')\n",
    "\n",
    "from sklearn.ensemble import RandomForestClassifier\n",
    "from sklearn.naive_bayes import GaussianNB\n",
    "from sklearn.svm import LinearSVC\n",
    "from sklearn import preprocessing\n",
    "from sklearn.preprocessing import StandardScaler\n",
    "from sklearn.model_selection import train_test_split\n",
    "from sklearn.tree import DecisionTreeClassifier\n",
    "from sklearn.linear_model import LogisticRegression\n",
    "from sklearn.svm import LinearSVC\n",
    "from sklearn.metrics import accuracy_score,precision_score, f1_score, confusion_matrix\n",
    "from imblearn.over_sampling import SMOTE\n",
    "from sklearn.model_selection import GridSearchCV"
   ]
  },
  {
   "cell_type": "code",
   "execution_count": 19,
   "metadata": {},
   "outputs": [],
   "source": [
    "def cleanDataFunction(csvfileName):\n",
    "  #Reading Data\n",
    "  df = pd.read_csv(csvfileName)\n",
    "  \n",
    "  print(f\"Data has {df.shape[0]} Rows and {df.shape[1]} Features\")\n",
    " \n",
    "  df.info() #all Dtype are float64\n",
    "  df.describe()\n",
    "  \n",
    "  df = df.astype('int') #convert the data to int type because Integer arithmetic is faster\n",
    "  df.isna().sum()\n",
    "\n",
    "  print('###### BEFORE ######')\n",
    "  print(df.duplicated().value_counts())# Count of duplicated Rows\n",
    "\n",
    "  duplicates = df[df.duplicated()]\n",
    "  print(\"Duplicate Rows : \",len(duplicates))\n",
    "  print(duplicates['Diabetes_binary'].value_counts())\n",
    "\n",
    "  df = df.drop_duplicates(subset=None, keep=\"first\", inplace=False) #because the data is unbalanced\n",
    "\n",
    "  print('###### AFTER ######')\n",
    "  print(df.duplicated().value_counts())\n",
    "\n",
    "  print('###### AMOUT OF ZEROS AND ONES ######')\n",
    "  sns.countplot(x='Diabetes_binary',data=df)\n",
    "  print(df['Diabetes_binary'].value_counts(normalize=True)*100)\n",
    "    \n",
    "  return df"
   ]
  },
  {
   "cell_type": "code",
   "execution_count": 20,
   "metadata": {},
   "outputs": [],
   "source": [
    "def removeUnneccessaryColumns(df):\n",
    "  #Droping unnecessary columns\n",
    "  newData  = df.copy()\n",
    "  newData.drop(['Education','Income'], axis = 1, inplace=True)\n",
    "  newData.to_csv('DataWithColumnsDropped.csv')\n",
    "  newData.columns\n",
    "  return newData"
   ]
  },
  {
   "cell_type": "code",
   "execution_count": 21,
   "metadata": {},
   "outputs": [],
   "source": [
    "#correlation\n",
    "def featureSelectionCorrelation(df):\n",
    "  plt.figure(figsize = (10,6))\n",
    "  sns.heatmap(df.corr(), vmax = 0.9, square = True)\n",
    "  plt.title(\"Correlations\")\n",
    "  # plt.show()\n",
    "\n",
    "  #Feature selection\n",
    "  correlation = df.corr()\n",
    "  updatedData = pd.DataFrame()\n",
    "  cnt = 0\n",
    "  for i in range (len(correlation['Diabetes_binary'])):\n",
    "      if abs(correlation['Diabetes_binary'][i]) >= 0.05:\n",
    "          myColumn = df[df.columns[i] ]\n",
    "          updatedData.insert(cnt,df.columns[i],myColumn)\n",
    "          cnt = cnt+1\n",
    "  return updatedData\n"
   ]
  },
  {
   "cell_type": "code",
   "execution_count": 22,
   "metadata": {},
   "outputs": [],
   "source": [
    "def main(classifier ,X_train, X_test, y_train, y_test):\n",
    "  y_train_pred = classifier.predict(X_train)\n",
    "  y_test_pred = classifier.predict(X_test)\n",
    "\n",
    "  #Training Data Set\n",
    "  print(\"\\n-----------TRAINING DATA-----------\")\n",
    "  AccScore = accuracy_score(y_train, y_train_pred)\n",
    "  F1Score=f1_score(y_train, y_train_pred,average='weighted')\n",
    "  PrecisionScore = precision_score(y_train, y_train_pred, average='weighted')\n",
    "  print(\"Accuracy Score: \",AccScore*100)\n",
    "  print('Precision Score is : ', PrecisionScore*100)\n",
    "  print(\"F1-Score: \",F1Score*100)\n",
    "\n",
    "  CM = confusion_matrix(y_train, y_train_pred)\n",
    "  print('Confusion Matrix is : \\n', CM)\n",
    "  #drawing confusion matrix\n",
    "  plt.figure(figsize = (8,6))\n",
    "  sns.heatmap(CM, center = True, fmt = \".0f\", cmap = 'viridis')\n",
    "  plt.show()\n",
    "\n",
    "\n",
    "  print(\"\\n-----------TESTING DATA-----------\")\n",
    "  #Testing Data Set\n",
    "  AccScore = accuracy_score(y_test, y_test_pred)\n",
    "  F1Score=f1_score(y_test, y_test_pred,average='weighted')\n",
    "  PrecisionScore = precision_score(y_test, y_test_pred, average='weighted')\n",
    "  print(\"Accuracy Score: \",AccScore*100)\n",
    "  print('Precision Score is : ', PrecisionScore*100)\n",
    "  print(\"F1-Score: \",F1Score*100)\n",
    "\n",
    "  CM = confusion_matrix(y_test, y_test_pred)\n",
    "  print('Confusion Matrix is : \\n', CM)\n",
    "  # drawing confusion matrix\n",
    "  plt.figure(figsize = (8,6))\n",
    "  sns.heatmap(CM, center = True, fmt = \".0f\", cmap = 'viridis')\n",
    "  plt.show()"
   ]
  },
  {
   "cell_type": "code",
   "execution_count": 23,
   "metadata": {},
   "outputs": [],
   "source": [
    "#Fitting Logistic Regression Model\n",
    "def logisticModelFunction(index,X_train, X_test, y_train, y_test):\n",
    "  classifier = LogisticRegression(C= 100, random_state= 0)\n",
    "  classifier.fit(X_train, y_train)\n",
    "  main(classifier ,X_train, X_test, y_train, y_test)\n",
    "  \n",
    "  joblib.dump(classifier, \"LogisticModel\"+index+\".pkl\")\n",
    "  \n",
    "  print(\"\\nMODEL PREDICTION\")\n",
    "  my_model_loaded = joblib.load(\"LogisticModel\"+index+\".pkl\")\n",
    "  print(my_model_loaded.predict(X_test)[0:20])"
   ]
  },
  {
   "cell_type": "code",
   "execution_count": 24,
   "metadata": {},
   "outputs": [],
   "source": [
    "#for Decision tree it returns the importance of each feature on the model\n",
    "def Sort_Tuple(tup):\n",
    "      return(sorted(tup, key = lambda x: x[1],reverse=True)) "
   ]
  },
  {
   "cell_type": "code",
   "execution_count": 25,
   "metadata": {},
   "outputs": [],
   "source": [
    "#Fitting Decision Tree Model\n",
    "def decisionModelFunction(index,X_train, X_test, y_train, y_test,X):\n",
    "  classifier = DecisionTreeClassifier(criterion= 'entropy')\n",
    "  classifier = classifier.fit(X_train,y_train)\n",
    "  main(classifier ,X_train, X_test, y_train, y_test)\n",
    "  print('\\n-----------------------------------------------\\n')\n",
    "\n",
    "  fun=lambda row: np.round((row * 100),2)\n",
    "  features = fun(classifier.feature_importances_)\n",
    "  \n",
    "  print(pd.DataFrame(Sort_Tuple(list(zip(X.columns,features))),columns=['Feature', 'Importance (%)']))\n",
    "\n",
    "  joblib.dump(classifier, \"DecisionModel\"+index+\".pkl\")\n",
    "  \n",
    "  print(\"\\nMODEL PREDICTION\")\n",
    "  my_model_loaded = joblib.load(\"DecisionModel\"+index+\".pkl\")\n",
    "  print(my_model_loaded.predict(X_test)[0:20])\n"
   ]
  },
  {
   "cell_type": "code",
   "execution_count": 26,
   "metadata": {},
   "outputs": [],
   "source": [
    "#Fitting Svm Model\n",
    "def svmModelFunction (index,X_train, X_test, y_train, y_test):\n",
    "  classifier = LinearSVC()\n",
    "  classifier.fit(X_train, y_train)\n",
    "  main(classifier ,X_train, X_test, y_train, y_test)\n",
    "  joblib.dump(classifier, \"svmModel\"+index+\".pkl\")\n",
    "\n",
    "  print(\"\\nMODEL PREDICTION\")\n",
    "  my_model_loaded = joblib.load(\"svmModel\"+index+\".pkl\")\n",
    "  print(my_model_loaded.predict(X_test)[0:20])"
   ]
  },
  {
   "cell_type": "code",
   "execution_count": 27,
   "metadata": {},
   "outputs": [],
   "source": [
    "def naiveBayesFunction(index,X_train, X_test, y_train, y_test):\n",
    "  classifier = GaussianNB()\n",
    "  classifier.fit(X_train, y_train)\n",
    "  main(classifier,X_train, X_test, y_train, y_test)\n",
    "\n",
    "  joblib.dump(classifier, \"naive_bayesModel\"+index+\".pkl\")\n",
    "  \n",
    "  print(\"\\nMODEL PREDICTION\")\n",
    "  my_model_loaded = joblib.load(\"naive_bayesModel\"+index+\".pkl\")\n",
    "  print(my_model_loaded.predict(X_test)[0:20])"
   ]
  },
  {
   "cell_type": "code",
   "execution_count": 28,
   "metadata": {},
   "outputs": [],
   "source": [
    "\n",
    "def randomForestFunction(index,X_train, X_test, y_train, y_test):\n",
    "  classifier = RandomForestClassifier(random_state=10)\n",
    "\n",
    "  classifier.fit(X_train, y_train)\n",
    "  main(classifier,X_train, X_test, y_train, y_test)\n",
    "\n",
    "  joblib.dump(classifier, \"RandomForestClassifierModel\"+index+\".pkl\")\n",
    "  \n",
    "  print(\"\\nMODEL PREDICTION\")\n",
    "  my_model_loaded = joblib.load(\"RandomForestClassifierModel\"+index+\".pkl\")\n",
    "  print(my_model_loaded.predict(X_test)[0:20])"
   ]
  },
  {
   "cell_type": "code",
   "execution_count": 29,
   "metadata": {},
   "outputs": [],
   "source": [
    "\n",
    "\n",
    "def bonusFunction(index,X_train, X_test, y_train, y_test):\n",
    " grid_models = [(LogisticRegression(),[{'C':[0.25,0.5,0.75,1,10,100,1000],'random_state':[0]}]), \n",
    "               (DecisionTreeClassifier(),[{'criterion':['gini','entropy'],'max_depth':[4,5,6,7,8,9,10,11,12,15,20,30,40,50,70,90,120,150],'random_state':[0]}])\n",
    "              #  ,(SVC(),[{'C': [0.1, 1, 10, 100, 1000],'gamma': [0.25,0.5,0.75,1,10,100],'kernel': ['rbf']}])\n",
    "                ]\n",
    "\n",
    " for i,j in grid_models:\n",
    "    grid = GridSearchCV(estimator=i,param_grid = j, scoring = 'accuracy',cv=2)\n",
    "    grid.fit(X_train, y_train)\n",
    "    best_accuracy = grid.best_score_\n",
    "    best_param = grid.best_params_\n",
    "    print('{}:\\nBest Accuracy : {:.2f}%'.format(i,best_accuracy*100))\n",
    "    print('Best Parameters : ',best_param)\n",
    "    print('')\n",
    "    print('----------------')\n",
    "    print('')"
   ]
  },
  {
   "cell_type": "code",
   "execution_count": 30,
   "metadata": {},
   "outputs": [],
   "source": [
    "def modelCreationFunction(index,df):\n",
    "    \n",
    "  #OverSampling\n",
    "  X = df.drop(['Diabetes_binary'],axis=1)\n",
    "  y = df['Diabetes_binary']\n",
    "  oversample = SMOTE()\n",
    "  X, y = oversample.fit_resample(X, y)\n",
    "\n",
    "  # Splitting data into training and test set:\n",
    "  X_train, X_test, y_train, y_test = train_test_split(X, y, test_size=0.2, random_state=42)\n",
    "  \n",
    "  # Creating StandardScaler instance\n",
    "  sc = StandardScaler()\n",
    "  # Fitting Standard Scaller\n",
    "  X_train = sc.fit_transform(X_train)\n",
    "  # Scaling data\n",
    "  X_test = sc.transform(X_test)\n",
    "\n",
    "  print(\"\\n#Logistic Model#\",index)\n",
    "  logisticModelFunction(index,X_train, X_test, y_train, y_test)\n",
    "  print(\"\\n#Decision Model#\",index)\n",
    "  decisionModelFunction(index,X_train, X_test, y_train, y_test,X)\n",
    "  print(\"\\n#svm Model#\",index)\n",
    "  svmModelFunction (index,X_train, X_test, y_train, y_test)\n",
    "  print(\"\\n#naiveBayes Model#\",index)\n",
    "  naiveBayesFunction (index,X_train, X_test, y_train, y_test)\n",
    "  print(\"\\n#Random Forest Model#\",index)\n",
    "  randomForestFunction (index,X_train, X_test, y_train, y_test)\n",
    "  print(\"\\n#Compination Between Algorithms And Show Best Hyperparameter#\",index)\n",
    "  bonusFunction(index,X_train, X_test, y_train, y_test)\n"
   ]
  },
  {
   "cell_type": "code",
   "execution_count": 31,
   "metadata": {},
   "outputs": [
    {
     "name": "stdout",
     "output_type": "stream",
     "text": [
      "Data has 253680 Rows and 22 Features\n",
      "<class 'pandas.core.frame.DataFrame'>\n",
      "RangeIndex: 253680 entries, 0 to 253679\n",
      "Data columns (total 22 columns):\n",
      " #   Column                Non-Null Count   Dtype  \n",
      "---  ------                --------------   -----  \n",
      " 0   Diabetes_binary       253680 non-null  float64\n",
      " 1   HighBP                253680 non-null  float64\n",
      " 2   HighChol              253680 non-null  float64\n",
      " 3   CholCheck             253680 non-null  float64\n",
      " 4   BMI                   253680 non-null  float64\n",
      " 5   Smoker                253680 non-null  float64\n",
      " 6   Stroke                253680 non-null  float64\n",
      " 7   HeartDiseaseorAttack  253680 non-null  float64\n",
      " 8   PhysActivity          253680 non-null  float64\n",
      " 9   Fruits                253680 non-null  float64\n",
      " 10  Veggies               253680 non-null  float64\n",
      " 11  HvyAlcoholConsump     253680 non-null  float64\n",
      " 12  AnyHealthcare         253680 non-null  float64\n",
      " 13  NoDocbcCost           253680 non-null  float64\n",
      " 14  GenHlth               253680 non-null  float64\n",
      " 15  MentHlth              253680 non-null  float64\n",
      " 16  PhysHlth              253680 non-null  float64\n",
      " 17  DiffWalk              253680 non-null  float64\n",
      " 18  Sex                   253680 non-null  float64\n",
      " 19  Age                   253680 non-null  float64\n",
      " 20  Education             253680 non-null  float64\n",
      " 21  Income                253680 non-null  float64\n",
      "dtypes: float64(22)\n",
      "memory usage: 42.6 MB\n",
      "###### BEFORE ######\n",
      "False    229474\n",
      "True      24206\n",
      "dtype: int64\n",
      "Duplicate Rows :  24206\n",
      "0    23957\n",
      "1      249\n",
      "Name: Diabetes_binary, dtype: int64\n",
      "###### AFTER ######\n",
      "False    229474\n",
      "dtype: int64\n",
      "###### AMOUT OF ZEROS AND ONES ######\n",
      "0    84.705457\n",
      "1    15.294543\n",
      "Name: Diabetes_binary, dtype: float64\n"
     ]
    },
    {
     "data": {
      "text/html": [
       "<div>\n",
       "<style scoped>\n",
       "    .dataframe tbody tr th:only-of-type {\n",
       "        vertical-align: middle;\n",
       "    }\n",
       "\n",
       "    .dataframe tbody tr th {\n",
       "        vertical-align: top;\n",
       "    }\n",
       "\n",
       "    .dataframe thead th {\n",
       "        text-align: right;\n",
       "    }\n",
       "</style>\n",
       "<table border=\"1\" class=\"dataframe\">\n",
       "  <thead>\n",
       "    <tr style=\"text-align: right;\">\n",
       "      <th></th>\n",
       "      <th>Diabetes_binary</th>\n",
       "      <th>HighBP</th>\n",
       "      <th>HighChol</th>\n",
       "      <th>CholCheck</th>\n",
       "      <th>BMI</th>\n",
       "      <th>Smoker</th>\n",
       "      <th>Stroke</th>\n",
       "      <th>HeartDiseaseorAttack</th>\n",
       "      <th>PhysActivity</th>\n",
       "      <th>Fruits</th>\n",
       "      <th>...</th>\n",
       "      <th>AnyHealthcare</th>\n",
       "      <th>NoDocbcCost</th>\n",
       "      <th>GenHlth</th>\n",
       "      <th>MentHlth</th>\n",
       "      <th>PhysHlth</th>\n",
       "      <th>DiffWalk</th>\n",
       "      <th>Sex</th>\n",
       "      <th>Age</th>\n",
       "      <th>Education</th>\n",
       "      <th>Income</th>\n",
       "    </tr>\n",
       "  </thead>\n",
       "  <tbody>\n",
       "    <tr>\n",
       "      <th>0</th>\n",
       "      <td>0</td>\n",
       "      <td>1</td>\n",
       "      <td>1</td>\n",
       "      <td>1</td>\n",
       "      <td>40</td>\n",
       "      <td>1</td>\n",
       "      <td>0</td>\n",
       "      <td>0</td>\n",
       "      <td>0</td>\n",
       "      <td>0</td>\n",
       "      <td>...</td>\n",
       "      <td>1</td>\n",
       "      <td>0</td>\n",
       "      <td>5</td>\n",
       "      <td>18</td>\n",
       "      <td>15</td>\n",
       "      <td>1</td>\n",
       "      <td>0</td>\n",
       "      <td>9</td>\n",
       "      <td>4</td>\n",
       "      <td>3</td>\n",
       "    </tr>\n",
       "    <tr>\n",
       "      <th>1</th>\n",
       "      <td>0</td>\n",
       "      <td>0</td>\n",
       "      <td>0</td>\n",
       "      <td>0</td>\n",
       "      <td>25</td>\n",
       "      <td>1</td>\n",
       "      <td>0</td>\n",
       "      <td>0</td>\n",
       "      <td>1</td>\n",
       "      <td>0</td>\n",
       "      <td>...</td>\n",
       "      <td>0</td>\n",
       "      <td>1</td>\n",
       "      <td>3</td>\n",
       "      <td>0</td>\n",
       "      <td>0</td>\n",
       "      <td>0</td>\n",
       "      <td>0</td>\n",
       "      <td>7</td>\n",
       "      <td>6</td>\n",
       "      <td>1</td>\n",
       "    </tr>\n",
       "    <tr>\n",
       "      <th>2</th>\n",
       "      <td>0</td>\n",
       "      <td>1</td>\n",
       "      <td>1</td>\n",
       "      <td>1</td>\n",
       "      <td>28</td>\n",
       "      <td>0</td>\n",
       "      <td>0</td>\n",
       "      <td>0</td>\n",
       "      <td>0</td>\n",
       "      <td>1</td>\n",
       "      <td>...</td>\n",
       "      <td>1</td>\n",
       "      <td>1</td>\n",
       "      <td>5</td>\n",
       "      <td>30</td>\n",
       "      <td>30</td>\n",
       "      <td>1</td>\n",
       "      <td>0</td>\n",
       "      <td>9</td>\n",
       "      <td>4</td>\n",
       "      <td>8</td>\n",
       "    </tr>\n",
       "    <tr>\n",
       "      <th>3</th>\n",
       "      <td>0</td>\n",
       "      <td>1</td>\n",
       "      <td>0</td>\n",
       "      <td>1</td>\n",
       "      <td>27</td>\n",
       "      <td>0</td>\n",
       "      <td>0</td>\n",
       "      <td>0</td>\n",
       "      <td>1</td>\n",
       "      <td>1</td>\n",
       "      <td>...</td>\n",
       "      <td>1</td>\n",
       "      <td>0</td>\n",
       "      <td>2</td>\n",
       "      <td>0</td>\n",
       "      <td>0</td>\n",
       "      <td>0</td>\n",
       "      <td>0</td>\n",
       "      <td>11</td>\n",
       "      <td>3</td>\n",
       "      <td>6</td>\n",
       "    </tr>\n",
       "    <tr>\n",
       "      <th>4</th>\n",
       "      <td>0</td>\n",
       "      <td>1</td>\n",
       "      <td>1</td>\n",
       "      <td>1</td>\n",
       "      <td>24</td>\n",
       "      <td>0</td>\n",
       "      <td>0</td>\n",
       "      <td>0</td>\n",
       "      <td>1</td>\n",
       "      <td>1</td>\n",
       "      <td>...</td>\n",
       "      <td>1</td>\n",
       "      <td>0</td>\n",
       "      <td>2</td>\n",
       "      <td>3</td>\n",
       "      <td>0</td>\n",
       "      <td>0</td>\n",
       "      <td>0</td>\n",
       "      <td>11</td>\n",
       "      <td>5</td>\n",
       "      <td>4</td>\n",
       "    </tr>\n",
       "  </tbody>\n",
       "</table>\n",
       "<p>5 rows × 22 columns</p>\n",
       "</div>"
      ],
      "text/plain": [
       "   Diabetes_binary  HighBP  HighChol  CholCheck  BMI  Smoker  Stroke  \\\n",
       "0                0       1         1          1   40       1       0   \n",
       "1                0       0         0          0   25       1       0   \n",
       "2                0       1         1          1   28       0       0   \n",
       "3                0       1         0          1   27       0       0   \n",
       "4                0       1         1          1   24       0       0   \n",
       "\n",
       "   HeartDiseaseorAttack  PhysActivity  Fruits  ...  AnyHealthcare  \\\n",
       "0                     0             0       0  ...              1   \n",
       "1                     0             1       0  ...              0   \n",
       "2                     0             0       1  ...              1   \n",
       "3                     0             1       1  ...              1   \n",
       "4                     0             1       1  ...              1   \n",
       "\n",
       "   NoDocbcCost  GenHlth  MentHlth  PhysHlth  DiffWalk  Sex  Age  Education  \\\n",
       "0            0        5        18        15         1    0    9          4   \n",
       "1            1        3         0         0         0    0    7          6   \n",
       "2            1        5        30        30         1    0    9          4   \n",
       "3            0        2         0         0         0    0   11          3   \n",
       "4            0        2         3         0         0    0   11          5   \n",
       "\n",
       "   Income  \n",
       "0       3  \n",
       "1       1  \n",
       "2       8  \n",
       "3       6  \n",
       "4       4  \n",
       "\n",
       "[5 rows x 22 columns]"
      ]
     },
     "execution_count": 31,
     "metadata": {},
     "output_type": "execute_result"
    },
    {
     "data": {
      "image/png": "[encoded data removed]",
      "text/plain": [
       "<Figure size 432x288 with 1 Axes>"
      ]
     },
     "metadata": {},
     "output_type": "display_data"
    }
   ],
   "source": [
    "df = pd.DataFrame()\n",
    "df = cleanDataFunction('D:/ai project/diabetes_binary_health_indicators_BRFSS2015.csv')\n",
    "df.head()\n",
    "\n"
   ]
  },
  {
   "cell_type": "code",
   "execution_count": 32,
   "metadata": {},
   "outputs": [
    {
     "name": "stdout",
     "output_type": "stream",
     "text": [
      "\n",
      "#Logistic Model# 1\n",
      "\n",
      "-----------TRAINING DATA-----------\n",
      "Accuracy Score:  72.6607138837889\n",
      "Precision Score is :  72.6845921634837\n",
      "F1-Score:  72.65326677358811\n",
      "Confusion Matrix is : \n",
      " [[110395  45052]\n",
      " [ 39974 115582]]\n"
     ]
    },
    {
     "data": {
      "image/png": "[encoded data removed]",
      "text/plain": [
       "<Figure size 576x432 with 2 Axes>"
      ]
     },
     "metadata": {},
     "output_type": "display_data"
    },
    {
     "name": "stdout",
     "output_type": "stream",
     "text": [
      "\n",
      "-----------TESTING DATA-----------\n",
      "Accuracy Score:  72.39263803680981\n",
      "Precision Score is :  72.4086751195974\n",
      "F1-Score:  72.38850778351393\n",
      "Confusion Matrix is : \n",
      " [[27694 11236]\n",
      " [10229 28592]]\n"
     ]
    },
    {
     "data": {
      "image/png": "[encoded data removed]",
      "text/plain": [
       "<Figure size 576x432 with 2 Axes>"
      ]
     },
     "metadata": {},
     "output_type": "display_data"
    },
    {
     "name": "stdout",
     "output_type": "stream",
     "text": [
      "\n",
      "MODEL PREDICTION\n",
      "[0 0 1 1 1 1 0 1 1 1 1 1 1 0 0 1 1 1 0 1]\n",
      "\n",
      "#Decision Model# 1\n",
      "\n",
      "-----------TRAINING DATA-----------\n",
      "Accuracy Score:  99.15209821127128\n",
      "Precision Score is :  99.15248202107757\n",
      "F1-Score:  99.15209613680739\n",
      "Confusion Matrix is : \n",
      " [[153911   1536]\n",
      " [  1101 154455]]\n"
     ]
    },
    {
     "data": {
      "image/png": "[encoded data removed]",
      "text/plain": [
       "<Figure size 576x432 with 2 Axes>"
      ]
     },
     "metadata": {},
     "output_type": "display_data"
    },
    {
     "name": "stdout",
     "output_type": "stream",
     "text": [
      "\n",
      "-----------TESTING DATA-----------\n",
      "Accuracy Score:  80.82982855525974\n",
      "Precision Score is :  81.16694542358232\n",
      "F1-Score:  80.77966777248561\n",
      "Confusion Matrix is : \n",
      " [[29464  9466]\n",
      " [ 5439 33382]]\n"
     ]
    },
    {
     "data": {
      "image/png": "[encoded data removed]",
      "text/plain": [
       "<Figure size 576x432 with 2 Axes>"
      ]
     },
     "metadata": {},
     "output_type": "display_data"
    },
    {
     "name": "stdout",
     "output_type": "stream",
     "text": [
      "\n",
      "-----------------------------------------------\n",
      "\n",
      "                 Feature  Importance (%)\n",
      "0                    BMI           16.08\n",
      "1                    Age           13.27\n",
      "2                GenHlth            9.85\n",
      "3                 Income            9.69\n",
      "4               PhysHlth            8.37\n",
      "5              Education            6.86\n",
      "6               MentHlth            6.67\n",
      "7               HighChol            3.50\n",
      "8                 HighBP            3.42\n",
      "9                    Sex            3.42\n",
      "10               Veggies            2.91\n",
      "11                Smoker            2.56\n",
      "12                Fruits            2.41\n",
      "13          PhysActivity            2.18\n",
      "14              DiffWalk            1.83\n",
      "15  HeartDiseaseorAttack            1.74\n",
      "16     HvyAlcoholConsump            1.62\n",
      "17           NoDocbcCost            1.08\n",
      "18         AnyHealthcare            1.02\n",
      "19                Stroke            0.81\n",
      "20             CholCheck            0.71\n",
      "\n",
      "MODEL PREDICTION\n",
      "[1 1 1 0 0 1 1 0 1 1 1 0 0 0 0 1 1 1 1 1]\n",
      "\n",
      "#svm Model# 1\n"
     ]
    },
    {
     "name": "stderr",
     "output_type": "stream",
     "text": [
      "C:\\Users\\Maria Tawfek\\AppData\\Roaming\\Python\\Python310\\site-packages\\sklearn\\svm\\_base.py:1225: ConvergenceWarning: Liblinear failed to converge, increase the number of iterations.\n",
      "  warnings.warn(\n"
     ]
    },
    {
     "name": "stdout",
     "output_type": "stream",
     "text": [
      "\n",
      "-----------TRAINING DATA-----------\n",
      "Accuracy Score:  72.63402603833403\n",
      "Precision Score is :  72.66577721714465\n",
      "F1-Score:  72.62414933793245\n",
      "Confusion Matrix is : \n",
      " [[109966  45481]\n",
      " [ 39628 115928]]\n"
     ]
    },
    {
     "data": {
      "image/png": "[encoded data removed]",
      "text/plain": [
       "<Figure size 576x432 with 2 Axes>"
      ]
     },
     "metadata": {},
     "output_type": "display_data"
    },
    {
     "name": "stdout",
     "output_type": "stream",
     "text": [
      "\n",
      "-----------TESTING DATA-----------\n",
      "Accuracy Score:  72.42221964990804\n",
      "Precision Score is :  72.44501751566143\n",
      "F1-Score:  72.41618311468004\n",
      "Confusion Matrix is : \n",
      " [[27606 11324]\n",
      " [10118 28703]]\n"
     ]
    },
    {
     "data": {
      "image/png": "[encoded data removed]",
      "text/plain": [
       "<Figure size 576x432 with 2 Axes>"
      ]
     },
     "metadata": {},
     "output_type": "display_data"
    },
    {
     "name": "stdout",
     "output_type": "stream",
     "text": [
      "\n",
      "MODEL PREDICTION\n",
      "[0 0 1 1 1 1 0 1 1 1 1 1 1 0 0 1 1 1 0 1]\n",
      "\n",
      "#naiveBayes Model# 1\n",
      "\n",
      "-----------TRAINING DATA-----------\n",
      "Accuracy Score:  69.96877843622087\n",
      "Precision Score is :  72.02185188411956\n",
      "F1-Score:  69.24941331014591\n",
      "Confusion Matrix is : \n",
      " [[ 84992  70455]\n",
      " [ 22943 132613]]\n"
     ]
    },
    {
     "data": {
      "image/png": "[encoded data removed]",
      "text/plain": [
       "<Figure size 576x432 with 2 Axes>"
      ]
     },
     "metadata": {},
     "output_type": "display_data"
    },
    {
     "name": "stdout",
     "output_type": "stream",
     "text": [
      "\n",
      "-----------TESTING DATA-----------\n",
      "Accuracy Score:  69.90392406528534\n",
      "Precision Score is :  71.88800586076131\n",
      "F1-Score:  69.21681309852454\n",
      "Confusion Matrix is : \n",
      " [[21394 17536]\n",
      " [ 5864 32957]]\n"
     ]
    },
    {
     "data": {
      "image/png": "[encoded data removed]",
      "text/plain": [
       "<Figure size 576x432 with 2 Axes>"
      ]
     },
     "metadata": {},
     "output_type": "display_data"
    },
    {
     "name": "stdout",
     "output_type": "stream",
     "text": [
      "\n",
      "MODEL PREDICTION\n",
      "[1 0 1 1 1 1 0 1 1 1 1 1 1 0 0 1 1 1 0 1]\n",
      "\n",
      "#Random Forest Model# 1\n",
      "\n",
      "-----------TRAINING DATA-----------\n",
      "Accuracy Score:  99.15177667096458\n",
      "Precision Score is :  99.1554899428372\n",
      "F1-Score:  99.15175934818626\n",
      "Confusion Matrix is : \n",
      " [[153452   1995]\n",
      " [   643 154913]]\n"
     ]
    },
    {
     "data": {
      "image/png": "[encoded data removed]",
      "text/plain": [
       "<Figure size 576x432 with 2 Axes>"
      ]
     },
     "metadata": {},
     "output_type": "display_data"
    },
    {
     "name": "stdout",
     "output_type": "stream",
     "text": [
      "\n",
      "-----------TESTING DATA-----------\n",
      "Accuracy Score:  85.68635773173335\n",
      "Precision Score is :  85.92122509168834\n",
      "F1-Score:  85.6638911072375\n",
      "Confusion Matrix is : \n",
      " [[31799  7131]\n",
      " [ 3998 34823]]\n"
     ]
    },
    {
     "data": {
      "image/png": "[encoded data removed]",
      "text/plain": [
       "<Figure size 576x432 with 2 Axes>"
      ]
     },
     "metadata": {},
     "output_type": "display_data"
    },
    {
     "name": "stdout",
     "output_type": "stream",
     "text": [
      "\n",
      "MODEL PREDICTION\n",
      "[1 0 1 1 0 1 1 1 1 1 1 1 0 0 0 1 1 1 1 1]\n",
      "\n",
      "#Compination Between Algorithms And Show Best Hyperparameter# 1\n",
      "LogisticRegression():\n",
      "Best Accuracy : 72.66%\n",
      "Best Parameters :  {'C': 0.25, 'random_state': 0}\n",
      "\n",
      "----------------\n",
      "\n",
      "DecisionTreeClassifier():\n",
      "Best Accuracy : 76.17%\n",
      "Best Parameters :  {'criterion': 'entropy', 'max_depth': 50, 'random_state': 0}\n",
      "\n",
      "----------------\n",
      "\n"
     ]
    }
   ],
   "source": [
    "modelCreationFunction('1',df)"
   ]
  },
  {
   "cell_type": "code",
   "execution_count": 33,
   "metadata": {},
   "outputs": [],
   "source": [
    "# df = removeUnneccessaryColumns(df)\n",
    "# modelCreationFunction('2',df)\n"
   ]
  },
  {
   "cell_type": "code",
   "execution_count": 34,
   "metadata": {},
   "outputs": [],
   "source": [
    "# df = featureSelectionCorrelation(df)\n",
    "# modelCreationFunction('3',df)\n"
   ]
  }
 ],
 "metadata": {
  "interpreter": {
   "hash": "26de051ba29f2982a8de78e945f0abaf191376122a1563185a90213a26c5da77"
  },
  "kernelspec": {
   "display_name": "Python 3.10.4 64-bit",
   "language": "python",
   "name": "python3"
  },
  "language_info": {
   "codemirror_mode": {
    "name": "ipython",
    "version": 3
   },
   "file_extension": ".py",
   "mimetype": "text/x-python",
   "name": "python",
   "nbconvert_exporter": "python",
   "pygments_lexer": "ipython3",
   "version": "3.10.4"
  },
  "orig_nbformat": 4
 },
 "nbformat": 4,
 "nbformat_minor": 2
}
